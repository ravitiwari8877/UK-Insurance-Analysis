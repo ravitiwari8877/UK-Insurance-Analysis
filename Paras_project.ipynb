{
 "cells": [
  {
   "cell_type": "markdown",
   "id": "a08fb531",
   "metadata": {},
   "source": [
    "# About Data :\n",
    "Within the excel file ‘Losses’ are daily claims (values, as at the time of the loss), by loss cause, between 1st January 1999 to 29 December 2007 for one portfolio of a UK insurance company. "
   ]
  },
  {
   "cell_type": "markdown",
   "id": "c4d10f00",
   "metadata": {},
   "source": [
    "### Importing the libraries"
   ]
  },
  {
   "cell_type": "code",
   "execution_count": 1,
   "id": "86b250a3",
   "metadata": {
    "scrolled": true
   },
   "outputs": [],
   "source": [
    "import numpy as np\n",
    "import pandas as pd\n",
    "import seaborn as sb\n",
    "import matplotlib.pyplot as plt\n",
    "\n",
    "import warnings\n",
    "warnings.filterwarnings('ignore')"
   ]
  },
  {
   "cell_type": "markdown",
   "id": "bfa18ca4",
   "metadata": {},
   "source": [
    "**The first step to any kind of exploration and modelling requires us to load the data file into the environment.**"
   ]
  },
  {
   "cell_type": "code",
   "execution_count": 2,
   "id": "318395ca",
   "metadata": {
    "scrolled": true
   },
   "outputs": [],
   "source": [
    "# Reading dataset using read_excel method\n",
    "data_df = pd.read_excel('Losses.xlsx')"
   ]
  },
  {
   "cell_type": "markdown",
   "id": "9f03b3ae",
   "metadata": {},
   "source": [
    "**Let's Check the dimensions of this data**"
   ]
  },
  {
   "cell_type": "code",
   "execution_count": 3,
   "id": "4e6da913",
   "metadata": {
    "scrolled": true
   },
   "outputs": [
    {
     "name": "stdout",
     "output_type": "stream",
     "text": [
      "Number of rows: 47565\n",
      "Number of columns: 6\n"
     ]
    }
   ],
   "source": [
    "# Checking \n",
    "data_df.shape\n",
    "print(\"Number of rows: \"+str(data_df.shape[0]))\n",
    "print(\"Number of columns: \"+str(data_df.shape[1]))"
   ]
  },
  {
   "cell_type": "markdown",
   "id": "596100d4",
   "metadata": {},
   "source": [
    "**Let's take a look at the top 5 rows of the data to understand what this file contains.**"
   ]
  },
  {
   "cell_type": "code",
   "execution_count": 4,
   "id": "f5645d1d",
   "metadata": {
    "scrolled": true
   },
   "outputs": [
    {
     "data": {
      "text/html": [
       "<div>\n",
       "<style scoped>\n",
       "    .dataframe tbody tr th:only-of-type {\n",
       "        vertical-align: middle;\n",
       "    }\n",
       "\n",
       "    .dataframe tbody tr th {\n",
       "        vertical-align: top;\n",
       "    }\n",
       "\n",
       "    .dataframe thead th {\n",
       "        text-align: right;\n",
       "    }\n",
       "</style>\n",
       "<table border=\"1\" class=\"dataframe\">\n",
       "  <thead>\n",
       "    <tr style=\"text-align: right;\">\n",
       "      <th></th>\n",
       "      <th>DAY</th>\n",
       "      <th>MONTH</th>\n",
       "      <th>MONTH_ID</th>\n",
       "      <th>YEAR</th>\n",
       "      <th>CAUSE</th>\n",
       "      <th>GROSS INCURRED AMOUNT</th>\n",
       "    </tr>\n",
       "  </thead>\n",
       "  <tbody>\n",
       "    <tr>\n",
       "      <th>0</th>\n",
       "      <td>1</td>\n",
       "      <td>January</td>\n",
       "      <td>1</td>\n",
       "      <td>1999</td>\n",
       "      <td>WINDSTORM</td>\n",
       "      <td>477.88</td>\n",
       "    </tr>\n",
       "    <tr>\n",
       "      <th>1</th>\n",
       "      <td>1</td>\n",
       "      <td>January</td>\n",
       "      <td>1</td>\n",
       "      <td>1999</td>\n",
       "      <td>FIRE</td>\n",
       "      <td>700.00</td>\n",
       "    </tr>\n",
       "    <tr>\n",
       "      <th>2</th>\n",
       "      <td>1</td>\n",
       "      <td>January</td>\n",
       "      <td>1</td>\n",
       "      <td>1999</td>\n",
       "      <td>WINDSTORM</td>\n",
       "      <td>99.87</td>\n",
       "    </tr>\n",
       "    <tr>\n",
       "      <th>3</th>\n",
       "      <td>1</td>\n",
       "      <td>January</td>\n",
       "      <td>1</td>\n",
       "      <td>1999</td>\n",
       "      <td>WINDSTORM</td>\n",
       "      <td>139.80</td>\n",
       "    </tr>\n",
       "    <tr>\n",
       "      <th>4</th>\n",
       "      <td>1</td>\n",
       "      <td>January</td>\n",
       "      <td>1</td>\n",
       "      <td>1999</td>\n",
       "      <td>WINDSTORM</td>\n",
       "      <td>548.66</td>\n",
       "    </tr>\n",
       "  </tbody>\n",
       "</table>\n",
       "</div>"
      ],
      "text/plain": [
       "   DAY    MONTH  MONTH_ID  YEAR      CAUSE  GROSS INCURRED AMOUNT\n",
       "0    1  January         1  1999  WINDSTORM                 477.88\n",
       "1    1  January         1  1999       FIRE                 700.00\n",
       "2    1  January         1  1999  WINDSTORM                  99.87\n",
       "3    1  January         1  1999  WINDSTORM                 139.80\n",
       "4    1  January         1  1999  WINDSTORM                 548.66"
      ]
     },
     "execution_count": 4,
     "metadata": {},
     "output_type": "execute_result"
    }
   ],
   "source": [
    "# The .head() function helps us to show top 5 records\n",
    "data_df.head()"
   ]
  },
  {
   "cell_type": "markdown",
   "id": "d6277d4e",
   "metadata": {},
   "source": [
    "**To understand the data better that we are going to deal with we would like to have a look at the basic numerical stats of the data like the mean, maximum etc. columnwise.**"
   ]
  },
  {
   "cell_type": "code",
   "execution_count": 5,
   "id": "e2f6ce30",
   "metadata": {
    "scrolled": true
   },
   "outputs": [
    {
     "data": {
      "text/html": [
       "<div>\n",
       "<style scoped>\n",
       "    .dataframe tbody tr th:only-of-type {\n",
       "        vertical-align: middle;\n",
       "    }\n",
       "\n",
       "    .dataframe tbody tr th {\n",
       "        vertical-align: top;\n",
       "    }\n",
       "\n",
       "    .dataframe thead th {\n",
       "        text-align: right;\n",
       "    }\n",
       "</style>\n",
       "<table border=\"1\" class=\"dataframe\">\n",
       "  <thead>\n",
       "    <tr style=\"text-align: right;\">\n",
       "      <th></th>\n",
       "      <th>DAY</th>\n",
       "      <th>MONTH_ID</th>\n",
       "      <th>YEAR</th>\n",
       "      <th>GROSS INCURRED AMOUNT</th>\n",
       "    </tr>\n",
       "  </thead>\n",
       "  <tbody>\n",
       "    <tr>\n",
       "      <th>count</th>\n",
       "      <td>47565.000000</td>\n",
       "      <td>47565.000000</td>\n",
       "      <td>47565.000000</td>\n",
       "      <td>47565.000000</td>\n",
       "    </tr>\n",
       "    <tr>\n",
       "      <th>mean</th>\n",
       "      <td>15.182802</td>\n",
       "      <td>6.379270</td>\n",
       "      <td>2004.335583</td>\n",
       "      <td>1072.416586</td>\n",
       "    </tr>\n",
       "    <tr>\n",
       "      <th>std</th>\n",
       "      <td>9.224491</td>\n",
       "      <td>3.579773</td>\n",
       "      <td>2.463259</td>\n",
       "      <td>3997.920914</td>\n",
       "    </tr>\n",
       "    <tr>\n",
       "      <th>min</th>\n",
       "      <td>1.000000</td>\n",
       "      <td>1.000000</td>\n",
       "      <td>1999.000000</td>\n",
       "      <td>-31989.780000</td>\n",
       "    </tr>\n",
       "    <tr>\n",
       "      <th>25%</th>\n",
       "      <td>7.000000</td>\n",
       "      <td>3.000000</td>\n",
       "      <td>2002.000000</td>\n",
       "      <td>158.630000</td>\n",
       "    </tr>\n",
       "    <tr>\n",
       "      <th>50%</th>\n",
       "      <td>15.000000</td>\n",
       "      <td>7.000000</td>\n",
       "      <td>2005.000000</td>\n",
       "      <td>400.000000</td>\n",
       "    </tr>\n",
       "    <tr>\n",
       "      <th>75%</th>\n",
       "      <td>23.000000</td>\n",
       "      <td>10.000000</td>\n",
       "      <td>2006.000000</td>\n",
       "      <td>888.610000</td>\n",
       "    </tr>\n",
       "    <tr>\n",
       "      <th>max</th>\n",
       "      <td>31.000000</td>\n",
       "      <td>12.000000</td>\n",
       "      <td>2007.000000</td>\n",
       "      <td>249499.510000</td>\n",
       "    </tr>\n",
       "  </tbody>\n",
       "</table>\n",
       "</div>"
      ],
      "text/plain": [
       "                DAY      MONTH_ID          YEAR  GROSS INCURRED AMOUNT\n",
       "count  47565.000000  47565.000000  47565.000000           47565.000000\n",
       "mean      15.182802      6.379270   2004.335583            1072.416586\n",
       "std        9.224491      3.579773      2.463259            3997.920914\n",
       "min        1.000000      1.000000   1999.000000          -31989.780000\n",
       "25%        7.000000      3.000000   2002.000000             158.630000\n",
       "50%       15.000000      7.000000   2005.000000             400.000000\n",
       "75%       23.000000     10.000000   2006.000000             888.610000\n",
       "max       31.000000     12.000000   2007.000000          249499.510000"
      ]
     },
     "execution_count": 5,
     "metadata": {},
     "output_type": "execute_result"
    }
   ],
   "source": [
    "# The .describe() function helps us.\n",
    "data_df.describe()"
   ]
  },
  {
   "cell_type": "markdown",
   "id": "cd55407c",
   "metadata": {},
   "source": [
    "**describe() method** deals only with numeric values. It doesn't work with any categorical values. So if there are any categorical values in a column the describe() method will ignore it and display summary for the other columns unless parameter include=\"all\" is passed.\n",
    "\n",
    "- count tells us the number of NoN-empty rows in a feature.\n",
    "- mean tells us the mean value of that feature.\n",
    "- std tells us the Standard Deviation Value of that feature.\n",
    "- min tells us the minimum value of that feature.\n",
    "- 25%, 50%, and 75% are the percentile/quartile of each features. This quartile information helps us to detect Outliers.\n",
    "- max tells us the maximum value of that feature.\n"
   ]
  },
  {
   "cell_type": "code",
   "execution_count": 6,
   "id": "2204a57b",
   "metadata": {
    "scrolled": true
   },
   "outputs": [
    {
     "name": "stdout",
     "output_type": "stream",
     "text": [
      "<class 'pandas.core.frame.DataFrame'>\n",
      "RangeIndex: 47565 entries, 0 to 47564\n",
      "Data columns (total 6 columns):\n",
      " #   Column                 Non-Null Count  Dtype  \n",
      "---  ------                 --------------  -----  \n",
      " 0   DAY                    47565 non-null  int64  \n",
      " 1   MONTH                  47565 non-null  object \n",
      " 2   MONTH_ID               47565 non-null  int64  \n",
      " 3   YEAR                   47565 non-null  int64  \n",
      " 4   CAUSE                  47565 non-null  object \n",
      " 5   GROSS INCURRED AMOUNT  47565 non-null  float64\n",
      "dtypes: float64(1), int64(3), object(2)\n",
      "memory usage: 2.2+ MB\n"
     ]
    }
   ],
   "source": [
    "#datatypes of all present attributes in the dataset\n",
    "data_df.info()"
   ]
  },
  {
   "cell_type": "code",
   "execution_count": 7,
   "id": "92bb62ed",
   "metadata": {
    "scrolled": true
   },
   "outputs": [
    {
     "data": {
      "text/plain": [
       "DAY                         31\n",
       "MONTH                       12\n",
       "MONTH_ID                    12\n",
       "YEAR                         9\n",
       "CAUSE                        8\n",
       "GROSS INCURRED AMOUNT    19865\n",
       "dtype: int64"
      ]
     },
     "execution_count": 7,
     "metadata": {},
     "output_type": "execute_result"
    }
   ],
   "source": [
    "#number of distinct elements in each attribute\n",
    "data_df.nunique(axis=0)"
   ]
  },
  {
   "cell_type": "markdown",
   "id": "3c998466",
   "metadata": {},
   "source": [
    "**Checking the Null Values in the data set**"
   ]
  },
  {
   "cell_type": "code",
   "execution_count": 8,
   "id": "c97e23be",
   "metadata": {
    "scrolled": false
   },
   "outputs": [
    {
     "data": {
      "text/plain": [
       "DAY                      0\n",
       "MONTH                    0\n",
       "MONTH_ID                 0\n",
       "YEAR                     0\n",
       "CAUSE                    0\n",
       "GROSS INCURRED AMOUNT    0\n",
       "dtype: int64"
      ]
     },
     "execution_count": 8,
     "metadata": {},
     "output_type": "execute_result"
    }
   ],
   "source": [
    "# using .isnull().sum()\n",
    "\n",
    "data_df.isnull().sum()"
   ]
  },
  {
   "cell_type": "markdown",
   "id": "34bacb72",
   "metadata": {},
   "source": [
    "**Checking duplicate entry in the data set**"
   ]
  },
  {
   "cell_type": "code",
   "execution_count": 9,
   "id": "e91a5298",
   "metadata": {
    "scrolled": false
   },
   "outputs": [
    {
     "data": {
      "text/plain": [
       "3264"
      ]
     },
     "execution_count": 9,
     "metadata": {},
     "output_type": "execute_result"
    }
   ],
   "source": [
    "# using .duplicated().sum()\n",
    "\n",
    "data_df.duplicated().sum()"
   ]
  },
  {
   "cell_type": "markdown",
   "id": "fbca52aa",
   "metadata": {},
   "source": [
    "**In our dataset 3264 duplicate entry is present. So first we remove it.**"
   ]
  },
  {
   "cell_type": "code",
   "execution_count": 10,
   "id": "c09262ec",
   "metadata": {
    "scrolled": false
   },
   "outputs": [],
   "source": [
    "data_df.drop_duplicates(inplace = True)"
   ]
  },
  {
   "cell_type": "markdown",
   "id": "5119be11",
   "metadata": {},
   "source": [
    "## Now we will first solve the given three problems and then make our model. "
   ]
  },
  {
   "cell_type": "markdown",
   "id": "75a9d436",
   "metadata": {},
   "source": [
    "#### Q1. What are the total claims by year and what trends are there? What could be driving these trends?"
   ]
  },
  {
   "cell_type": "markdown",
   "id": "42ae969d",
   "metadata": {},
   "source": [
    "**a -What are the total value of claims by year?**"
   ]
  },
  {
   "cell_type": "code",
   "execution_count": 11,
   "id": "0a79b50a",
   "metadata": {
    "scrolled": true
   },
   "outputs": [
    {
     "data": {
      "text/html": [
       "<div>\n",
       "<style scoped>\n",
       "    .dataframe tbody tr th:only-of-type {\n",
       "        vertical-align: middle;\n",
       "    }\n",
       "\n",
       "    .dataframe tbody tr th {\n",
       "        vertical-align: top;\n",
       "    }\n",
       "\n",
       "    .dataframe thead th {\n",
       "        text-align: right;\n",
       "    }\n",
       "</style>\n",
       "<table border=\"1\" class=\"dataframe\">\n",
       "  <thead>\n",
       "    <tr style=\"text-align: right;\">\n",
       "      <th></th>\n",
       "      <th>YEAR</th>\n",
       "      <th>GROSS INCURRED AMOUNT</th>\n",
       "    </tr>\n",
       "  </thead>\n",
       "  <tbody>\n",
       "    <tr>\n",
       "      <th>0</th>\n",
       "      <td>1999</td>\n",
       "      <td>1504421.74</td>\n",
       "    </tr>\n",
       "    <tr>\n",
       "      <th>1</th>\n",
       "      <td>2000</td>\n",
       "      <td>3326081.57</td>\n",
       "    </tr>\n",
       "    <tr>\n",
       "      <th>2</th>\n",
       "      <td>2001</td>\n",
       "      <td>3535301.70</td>\n",
       "    </tr>\n",
       "    <tr>\n",
       "      <th>3</th>\n",
       "      <td>2002</td>\n",
       "      <td>3262541.63</td>\n",
       "    </tr>\n",
       "    <tr>\n",
       "      <th>4</th>\n",
       "      <td>2003</td>\n",
       "      <td>3135699.13</td>\n",
       "    </tr>\n",
       "    <tr>\n",
       "      <th>5</th>\n",
       "      <td>2004</td>\n",
       "      <td>4022203.93</td>\n",
       "    </tr>\n",
       "    <tr>\n",
       "      <th>6</th>\n",
       "      <td>2005</td>\n",
       "      <td>6230756.87</td>\n",
       "    </tr>\n",
       "    <tr>\n",
       "      <th>7</th>\n",
       "      <td>2006</td>\n",
       "      <td>9818361.64</td>\n",
       "    </tr>\n",
       "    <tr>\n",
       "      <th>8</th>\n",
       "      <td>2007</td>\n",
       "      <td>15181791.84</td>\n",
       "    </tr>\n",
       "  </tbody>\n",
       "</table>\n",
       "</div>"
      ],
      "text/plain": [
       "   YEAR  GROSS INCURRED AMOUNT\n",
       "0  1999             1504421.74\n",
       "1  2000             3326081.57\n",
       "2  2001             3535301.70\n",
       "3  2002             3262541.63\n",
       "4  2003             3135699.13\n",
       "5  2004             4022203.93\n",
       "6  2005             6230756.87\n",
       "7  2006             9818361.64\n",
       "8  2007            15181791.84"
      ]
     },
     "execution_count": 11,
     "metadata": {},
     "output_type": "execute_result"
    }
   ],
   "source": [
    "year = []\n",
    "total_values=[]\n",
    "for i in data_df['YEAR'].unique():\n",
    "    total_value =data_df.loc[data_df['YEAR'] == i, 'GROSS INCURRED AMOUNT'].sum()\n",
    "    year.append(i)\n",
    "    total_values.append(total_value.round(2))\n",
    "'''    print(\"--------------------------------------------\")\n",
    "    print(\"Year\", i)\n",
    "    print(\"Total claims in this year\", total_value)'''\n",
    "dict = {'YEAR': year, 'GROSS INCURRED AMOUNT': total_values}\n",
    "df = pd.DataFrame(dict)\n",
    "df"
   ]
  },
  {
   "cell_type": "code",
   "execution_count": 12,
   "id": "c9bf7930",
   "metadata": {
    "scrolled": false
   },
   "outputs": [
    {
     "data": {
      "image/png": "[encoded data removed]",
      "text/plain": [
       "<Figure size 1000x500 with 1 Axes>"
      ]
     },
     "metadata": {},
     "output_type": "display_data"
    }
   ],
   "source": [
    "fig = plt.figure(figsize = (10, 5))\n",
    " \n",
    "# creating the bar plot\n",
    "plt.bar(df['YEAR'], df['GROSS INCURRED AMOUNT'], color=['orange', 'red', 'green', 'blue', 'cyan','yellow'])\n",
    " \n",
    "plt.xlabel(\"Years\")\n",
    "plt.ylabel(\"Gross Amount\")\n",
    "plt.title(\"Total Value Claim by the year\")\n",
    "plt.show()"
   ]
  },
  {
   "cell_type": "markdown",
   "id": "f389d7d5",
   "metadata": {},
   "source": [
    "**What factors, internal and external to the insurer, could be driving any trends that you have identified?**"
   ]
  },
  {
   "cell_type": "code",
   "execution_count": 13,
   "id": "bd2bfd29",
   "metadata": {
    "scrolled": true
   },
   "outputs": [
    {
     "data": {
      "text/html": [
       "<div>\n",
       "<style scoped>\n",
       "    .dataframe tbody tr th:only-of-type {\n",
       "        vertical-align: middle;\n",
       "    }\n",
       "\n",
       "    .dataframe tbody tr th {\n",
       "        vertical-align: top;\n",
       "    }\n",
       "\n",
       "    .dataframe thead th {\n",
       "        text-align: right;\n",
       "    }\n",
       "</style>\n",
       "<table border=\"1\" class=\"dataframe\">\n",
       "  <thead>\n",
       "    <tr style=\"text-align: right;\">\n",
       "      <th></th>\n",
       "      <th>CAUSE</th>\n",
       "      <th>GROSS INCURRED AMOUNT</th>\n",
       "    </tr>\n",
       "  </thead>\n",
       "  <tbody>\n",
       "    <tr>\n",
       "      <th>0</th>\n",
       "      <td>WINDSTORM</td>\n",
       "      <td>8751596.65</td>\n",
       "    </tr>\n",
       "    <tr>\n",
       "      <th>1</th>\n",
       "      <td>FIRE</td>\n",
       "      <td>7050611.03</td>\n",
       "    </tr>\n",
       "    <tr>\n",
       "      <th>2</th>\n",
       "      <td>ESCAPE OF WATER</td>\n",
       "      <td>3405456.11</td>\n",
       "    </tr>\n",
       "    <tr>\n",
       "      <th>3</th>\n",
       "      <td>SUBSIDENCE</td>\n",
       "      <td>4773181.49</td>\n",
       "    </tr>\n",
       "    <tr>\n",
       "      <th>4</th>\n",
       "      <td>FLOOD</td>\n",
       "      <td>9449495.10</td>\n",
       "    </tr>\n",
       "    <tr>\n",
       "      <th>5</th>\n",
       "      <td>ACCIDENTAL DAMAGE</td>\n",
       "      <td>8681913.23</td>\n",
       "    </tr>\n",
       "    <tr>\n",
       "      <th>6</th>\n",
       "      <td>THEFT</td>\n",
       "      <td>7156159.83</td>\n",
       "    </tr>\n",
       "    <tr>\n",
       "      <th>7</th>\n",
       "      <td>EARTHQUAKE</td>\n",
       "      <td>748746.61</td>\n",
       "    </tr>\n",
       "  </tbody>\n",
       "</table>\n",
       "</div>"
      ],
      "text/plain": [
       "               CAUSE  GROSS INCURRED AMOUNT\n",
       "0          WINDSTORM             8751596.65\n",
       "1               FIRE             7050611.03\n",
       "2    ESCAPE OF WATER             3405456.11\n",
       "3    SUBSIDENCE                  4773181.49\n",
       "4    FLOOD                       9449495.10\n",
       "5  ACCIDENTAL DAMAGE             8681913.23\n",
       "6              THEFT             7156159.83\n",
       "7    EARTHQUAKE                   748746.61"
      ]
     },
     "execution_count": 13,
     "metadata": {},
     "output_type": "execute_result"
    }
   ],
   "source": [
    "total_values = []\n",
    "cause=[]\n",
    "for i in data_df['CAUSE'].unique():\n",
    "    total_value =data_df.loc[data_df['CAUSE'] == i, 'GROSS INCURRED AMOUNT'].sum()\n",
    "    #print(\"--------------------------------------------\")\n",
    "    #print(\"CAUSE:\", i)\n",
    "    cause.append(i)\n",
    "    total_values.append(total_value.round(2))\n",
    "    #print(\"Total claims with this cause:\", total_value.round(2))\n",
    "dict = {'CAUSE': cause, 'GROSS INCURRED AMOUNT': total_values}\n",
    "df1 = pd.DataFrame(dict)\n",
    "df1"
   ]
  },
  {
   "cell_type": "code",
   "execution_count": 14,
   "id": "cd93256f",
   "metadata": {
    "scrolled": false
   },
   "outputs": [
    {
     "data": {
      "image/png": "[encoded data removed]",
      "text/plain": [
       "<Figure size 1500x700 with 1 Axes>"
      ]
     },
     "metadata": {},
     "output_type": "display_data"
    }
   ],
   "source": [
    "fig = plt.figure(figsize = (15, 7))\n",
    " \n",
    "# creating the bar plot\n",
    "plt.bar(df1['CAUSE'], df1['GROSS INCURRED AMOUNT'],color=['orange', 'red', 'green', 'blue', 'cyan','yellow'])\n",
    " \n",
    "plt.xlabel(\"CAUSE\")\n",
    "plt.ylabel(\"Gross Amount\")\n",
    "plt.show()"
   ]
  },
  {
   "cell_type": "markdown",
   "id": "90845603",
   "metadata": {},
   "source": [
    "## Q2. Which perils should the company worry about most and why?"
   ]
  },
  {
   "cell_type": "markdown",
   "id": "21074ab8",
   "metadata": {},
   "source": [
    "**Which claim types (perils) have the greatest average annual frequency and severity?**"
   ]
  },
  {
   "cell_type": "code",
   "execution_count": 18,
   "id": "5a0ed5b8",
   "metadata": {
    "scrolled": false
   },
   "outputs": [
    {
     "data": {
      "text/html": [
       "<div>\n",
       "<style scoped>\n",
       "    .dataframe tbody tr th:only-of-type {\n",
       "        vertical-align: middle;\n",
       "    }\n",
       "\n",
       "    .dataframe tbody tr th {\n",
       "        vertical-align: top;\n",
       "    }\n",
       "\n",
       "    .dataframe thead th {\n",
       "        text-align: right;\n",
       "    }\n",
       "</style>\n",
       "<table border=\"1\" class=\"dataframe\">\n",
       "  <thead>\n",
       "    <tr style=\"text-align: right;\">\n",
       "      <th></th>\n",
       "      <th>YEAR</th>\n",
       "      <th>CAUSE</th>\n",
       "      <th>CLAIM</th>\n",
       "    </tr>\n",
       "  </thead>\n",
       "  <tbody>\n",
       "    <tr>\n",
       "      <th>0</th>\n",
       "      <td>1999</td>\n",
       "      <td>WINDSTORM</td>\n",
       "      <td>586.266214</td>\n",
       "    </tr>\n",
       "    <tr>\n",
       "      <th>1</th>\n",
       "      <td>2000</td>\n",
       "      <td>WINDSTORM</td>\n",
       "      <td>814.016582</td>\n",
       "    </tr>\n",
       "    <tr>\n",
       "      <th>2</th>\n",
       "      <td>2001</td>\n",
       "      <td>WINDSTORM</td>\n",
       "      <td>588.085560</td>\n",
       "    </tr>\n",
       "    <tr>\n",
       "      <th>3</th>\n",
       "      <td>2002</td>\n",
       "      <td>WINDSTORM</td>\n",
       "      <td>617.170224</td>\n",
       "    </tr>\n",
       "    <tr>\n",
       "      <th>4</th>\n",
       "      <td>2003</td>\n",
       "      <td>WINDSTORM</td>\n",
       "      <td>554.673421</td>\n",
       "    </tr>\n",
       "    <tr>\n",
       "      <th>...</th>\n",
       "      <td>...</td>\n",
       "      <td>...</td>\n",
       "      <td>...</td>\n",
       "    </tr>\n",
       "    <tr>\n",
       "      <th>67</th>\n",
       "      <td>2003</td>\n",
       "      <td>EARTHQUAKE</td>\n",
       "      <td>NaN</td>\n",
       "    </tr>\n",
       "    <tr>\n",
       "      <th>68</th>\n",
       "      <td>2004</td>\n",
       "      <td>EARTHQUAKE</td>\n",
       "      <td>NaN</td>\n",
       "    </tr>\n",
       "    <tr>\n",
       "      <th>69</th>\n",
       "      <td>2005</td>\n",
       "      <td>EARTHQUAKE</td>\n",
       "      <td>NaN</td>\n",
       "    </tr>\n",
       "    <tr>\n",
       "      <th>70</th>\n",
       "      <td>2006</td>\n",
       "      <td>EARTHQUAKE</td>\n",
       "      <td>NaN</td>\n",
       "    </tr>\n",
       "    <tr>\n",
       "      <th>71</th>\n",
       "      <td>2007</td>\n",
       "      <td>EARTHQUAKE</td>\n",
       "      <td>6010.738455</td>\n",
       "    </tr>\n",
       "  </tbody>\n",
       "</table>\n",
       "<p>72 rows × 3 columns</p>\n",
       "</div>"
      ],
      "text/plain": [
       "    YEAR            CAUSE        CLAIM\n",
       "0   1999        WINDSTORM   586.266214\n",
       "1   2000        WINDSTORM   814.016582\n",
       "2   2001        WINDSTORM   588.085560\n",
       "3   2002        WINDSTORM   617.170224\n",
       "4   2003        WINDSTORM   554.673421\n",
       "..   ...              ...          ...\n",
       "67  2003  EARTHQUAKE               NaN\n",
       "68  2004  EARTHQUAKE               NaN\n",
       "69  2005  EARTHQUAKE               NaN\n",
       "70  2006  EARTHQUAKE               NaN\n",
       "71  2007  EARTHQUAKE       6010.738455\n",
       "\n",
       "[72 rows x 3 columns]"
      ]
     },
     "execution_count": 18,
     "metadata": {},
     "output_type": "execute_result"
    }
   ],
   "source": [
    "values = []\n",
    "causes = []\n",
    "years = []\n",
    "for c in cause:\n",
    "    for i in year:\n",
    "        total_value =data_df.loc[(data_df['YEAR'] == i) & (data_df['CAUSE']==c), 'GROSS INCURRED AMOUNT'].mean()\n",
    "        values.append(total_value)\n",
    "        causes.append(c)\n",
    "        years.append(i)\n",
    "\n",
    "dict = {'YEAR': years, 'CAUSE': causes, 'CLAIM': values} \n",
    "    \n",
    "df2 = pd.DataFrame(dict)\n",
    "    \n",
    "df2"
   ]
  },
  {
   "cell_type": "code",
   "execution_count": 19,
   "id": "add97f04",
   "metadata": {
    "scrolled": false
   },
   "outputs": [
    {
     "name": "stdout",
     "output_type": "stream",
     "text": [
      "    YEAR            CAUSE      CLAIM\n",
      "29  2001  SUBSIDENCE       10518.961\n"
     ]
    }
   ],
   "source": [
    "print(df2[['YEAR', 'CAUSE','CLAIM']].sort_values('CLAIM', ascending=False).head(1))"
   ]
  },
  {
   "cell_type": "markdown",
   "id": "5ebbd1dc",
   "metadata": {},
   "source": [
    "#### Here we get that SUBSIDENCE has greatest average annual claims: 10518.961 in the year 2001.  \n"
   ]
  },
  {
   "cell_type": "markdown",
   "id": "67c4172b",
   "metadata": {},
   "source": [
    "**What is the average individual claim size by peril across the 9-year time period?**"
   ]
  },
  {
   "cell_type": "code",
   "execution_count": 17,
   "id": "27ff003d",
   "metadata": {
    "scrolled": false
   },
   "outputs": [
    {
     "data": {
      "text/plain": [
       "CAUSE\n",
       "ACCIDENTAL DAMAGE    8681913.23\n",
       "EARTHQUAKE            748746.61\n",
       "ESCAPE OF WATER      3405456.11\n",
       "FIRE                 7050611.03\n",
       "FLOOD                9449495.10\n",
       "SUBSIDENCE           4773181.49\n",
       "THEFT                7156159.83\n",
       "WINDSTORM            8751596.65\n",
       "Name: CLAIM, dtype: float64"
      ]
     },
     "execution_count": 17,
     "metadata": {},
     "output_type": "execute_result"
    }
   ],
   "source": [
    "cause_2 = []\n",
    "total_value2 = []\n",
    "for c in causes:\n",
    "    total_value =data_df.loc[data_df['CAUSE'] == c, 'GROSS INCURRED AMOUNT'].sum()\n",
    "    cause_2.append(c)\n",
    "    total_value2.append(total_value.round(2))\n",
    "\n",
    "dict = {'CAUSE': cause_2, 'CLAIM': total_value2}\n",
    "df3 = pd.DataFrame(dict)\n",
    "\n",
    "# Calculating average\n",
    "result = df3.groupby('CAUSE')['CLAIM'].mean()\n",
    "\n",
    "# Display result\n",
    "result.round(2)\n"
   ]
  },
  {
   "cell_type": "markdown",
   "id": "6697f6b6",
   "metadata": {},
   "source": [
    "### Q3. What did Windstorm Erwin cost the company? What perils drove the loss?\n",
    "\n",
    "**What was the total loss, for windstorm and other related weather perils, for Windstorm Erwin (date Jan 7th to Jan 9th, 2005)**\n"
   ]
  },
  {
   "cell_type": "code",
   "execution_count": 18,
   "id": "57b5778f",
   "metadata": {
    "scrolled": false
   },
   "outputs": [
    {
     "data": {
      "text/html": [
       "<div>\n",
       "<style scoped>\n",
       "    .dataframe tbody tr th:only-of-type {\n",
       "        vertical-align: middle;\n",
       "    }\n",
       "\n",
       "    .dataframe tbody tr th {\n",
       "        vertical-align: top;\n",
       "    }\n",
       "\n",
       "    .dataframe thead th {\n",
       "        text-align: right;\n",
       "    }\n",
       "</style>\n",
       "<table border=\"1\" class=\"dataframe\">\n",
       "  <thead>\n",
       "    <tr style=\"text-align: right;\">\n",
       "      <th></th>\n",
       "      <th>DAY</th>\n",
       "      <th>MONTH</th>\n",
       "      <th>MONTH_ID</th>\n",
       "      <th>YEAR</th>\n",
       "      <th>CAUSE</th>\n",
       "      <th>GROSS INCURRED AMOUNT</th>\n",
       "    </tr>\n",
       "  </thead>\n",
       "  <tbody>\n",
       "    <tr>\n",
       "      <th>1947</th>\n",
       "      <td>8</td>\n",
       "      <td>January</td>\n",
       "      <td>1</td>\n",
       "      <td>2000</td>\n",
       "      <td>WINDSTORM</td>\n",
       "      <td>350.00</td>\n",
       "    </tr>\n",
       "    <tr>\n",
       "      <th>5221</th>\n",
       "      <td>8</td>\n",
       "      <td>January</td>\n",
       "      <td>1</td>\n",
       "      <td>2001</td>\n",
       "      <td>WINDSTORM</td>\n",
       "      <td>595.00</td>\n",
       "    </tr>\n",
       "    <tr>\n",
       "      <th>5223</th>\n",
       "      <td>8</td>\n",
       "      <td>January</td>\n",
       "      <td>1</td>\n",
       "      <td>2001</td>\n",
       "      <td>WINDSTORM</td>\n",
       "      <td>528.75</td>\n",
       "    </tr>\n",
       "    <tr>\n",
       "      <th>5224</th>\n",
       "      <td>8</td>\n",
       "      <td>January</td>\n",
       "      <td>1</td>\n",
       "      <td>2001</td>\n",
       "      <td>WINDSTORM</td>\n",
       "      <td>998.75</td>\n",
       "    </tr>\n",
       "    <tr>\n",
       "      <th>5226</th>\n",
       "      <td>8</td>\n",
       "      <td>January</td>\n",
       "      <td>1</td>\n",
       "      <td>2001</td>\n",
       "      <td>WINDSTORM</td>\n",
       "      <td>130.00</td>\n",
       "    </tr>\n",
       "    <tr>\n",
       "      <th>...</th>\n",
       "      <td>...</td>\n",
       "      <td>...</td>\n",
       "      <td>...</td>\n",
       "      <td>...</td>\n",
       "      <td>...</td>\n",
       "      <td>...</td>\n",
       "    </tr>\n",
       "    <tr>\n",
       "      <th>36526</th>\n",
       "      <td>8</td>\n",
       "      <td>January</td>\n",
       "      <td>1</td>\n",
       "      <td>2007</td>\n",
       "      <td>WINDSTORM</td>\n",
       "      <td>114.00</td>\n",
       "    </tr>\n",
       "    <tr>\n",
       "      <th>36528</th>\n",
       "      <td>8</td>\n",
       "      <td>January</td>\n",
       "      <td>1</td>\n",
       "      <td>2007</td>\n",
       "      <td>WINDSTORM</td>\n",
       "      <td>264.38</td>\n",
       "    </tr>\n",
       "    <tr>\n",
       "      <th>36529</th>\n",
       "      <td>8</td>\n",
       "      <td>January</td>\n",
       "      <td>1</td>\n",
       "      <td>2007</td>\n",
       "      <td>WINDSTORM</td>\n",
       "      <td>1811.20</td>\n",
       "    </tr>\n",
       "    <tr>\n",
       "      <th>36531</th>\n",
       "      <td>8</td>\n",
       "      <td>January</td>\n",
       "      <td>1</td>\n",
       "      <td>2007</td>\n",
       "      <td>WINDSTORM</td>\n",
       "      <td>176.00</td>\n",
       "    </tr>\n",
       "    <tr>\n",
       "      <th>36536</th>\n",
       "      <td>8</td>\n",
       "      <td>January</td>\n",
       "      <td>1</td>\n",
       "      <td>2007</td>\n",
       "      <td>WINDSTORM</td>\n",
       "      <td>420.00</td>\n",
       "    </tr>\n",
       "  </tbody>\n",
       "</table>\n",
       "<p>238 rows × 6 columns</p>\n",
       "</div>"
      ],
      "text/plain": [
       "       DAY    MONTH  MONTH_ID  YEAR      CAUSE  GROSS INCURRED AMOUNT\n",
       "1947     8  January         1  2000  WINDSTORM                 350.00\n",
       "5221     8  January         1  2001  WINDSTORM                 595.00\n",
       "5223     8  January         1  2001  WINDSTORM                 528.75\n",
       "5224     8  January         1  2001  WINDSTORM                 998.75\n",
       "5226     8  January         1  2001  WINDSTORM                 130.00\n",
       "...    ...      ...       ...   ...        ...                    ...\n",
       "36526    8  January         1  2007  WINDSTORM                 114.00\n",
       "36528    8  January         1  2007  WINDSTORM                 264.38\n",
       "36529    8  January         1  2007  WINDSTORM                1811.20\n",
       "36531    8  January         1  2007  WINDSTORM                 176.00\n",
       "36536    8  January         1  2007  WINDSTORM                 420.00\n",
       "\n",
       "[238 rows x 6 columns]"
      ]
     },
     "execution_count": 18,
     "metadata": {},
     "output_type": "execute_result"
    }
   ],
   "source": [
    "options = ['FLOOD','WINDSTORM','SUBSIDENCE']\n",
    "df3 = data_df.loc[(data_df['MONTH']=='January') & (data_df['DAY']<9) & (data_df['DAY']>7) & (data_df['CAUSE'].isin(options))]\n",
    "df3.head()"
   ]
  },
  {
   "cell_type": "code",
   "execution_count": 19,
   "id": "682bfb59",
   "metadata": {
    "scrolled": false
   },
   "outputs": [
    {
     "name": "stdout",
     "output_type": "stream",
     "text": [
      "CAUSE\n",
      "WINDSTORM    205524.31\n",
      "Name: GROSS INCURRED AMOUNT, dtype: float64\n"
     ]
    }
   ],
   "source": [
    "result_weather = df3.groupby('CAUSE')['GROSS INCURRED AMOUNT'].sum()\n",
    "print(result_weather)"
   ]
  },
  {
   "cell_type": "markdown",
   "id": "64dc459f",
   "metadata": {},
   "source": [
    "# NOW WE WILL MAKE OUR MODEL FOR PREDICTION"
   ]
  },
  {
   "cell_type": "markdown",
   "id": "033459c7",
   "metadata": {},
   "source": [
    "### Transformation of categorical attributes"
   ]
  },
  {
   "cell_type": "code",
   "execution_count": 20,
   "id": "abc9e104",
   "metadata": {
    "scrolled": true
   },
   "outputs": [],
   "source": [
    "# Converting object data type into numeric data type using Label Encoder.\n",
    "\n",
    "from sklearn.preprocessing import LabelEncoder\n",
    "\n",
    "lb = LabelEncoder()\n",
    "data_df['MONTH'] = lb.fit_transform(data_df['MONTH'])\n",
    "data_df['CAUSE'] = lb.fit_transform(data_df['CAUSE'])"
   ]
  },
  {
   "cell_type": "markdown",
   "id": "44fafe2a",
   "metadata": {},
   "source": [
    "**Lets try to understand what this data is all about.**\n",
    "\n",
    "### Data Visualisation-\n",
    "Since this is a classification problem it would be important and interesting to the distribution of target variables for the data."
   ]
  },
  {
   "cell_type": "code",
   "execution_count": 21,
   "id": "c79a7416",
   "metadata": {
    "scrolled": true
   },
   "outputs": [
    {
     "data": {
      "image/png": "[encoded data removed]",
      "text/plain": [
       "<Figure size 2000x600 with 2 Axes>"
      ]
     },
     "metadata": {},
     "output_type": "display_data"
    }
   ],
   "source": [
    "fig, ax=plt.subplots(1,2,figsize=(20,6))\n",
    "_ = sb.countplot(x='CAUSE', data=data_df, ax=ax[0])\n",
    "_ = data_df['CAUSE'].value_counts().plot.pie(autopct=\"%1.1f%%\", ax=ax[1])"
   ]
  },
  {
   "cell_type": "code",
   "execution_count": 24,
   "id": "e0db4ee5",
   "metadata": {},
   "outputs": [
    {
     "data": {
      "text/plain": [
       "ACCIDENTAL DAMAGE    16950\n",
       "WINDSTORM             8208\n",
       "THEFT                 7428\n",
       "FLOOD                 4916\n",
       "ESCAPE OF WATER       3876\n",
       "FIRE                  2025\n",
       "SUBSIDENCE             768\n",
       "EARTHQUAKE             130\n",
       "Name: CAUSE, dtype: int64"
      ]
     },
     "execution_count": 24,
     "metadata": {},
     "output_type": "execute_result"
    }
   ],
   "source": [
    "data_df['CAUSE'].value_counts()"
   ]
  },
  {
   "cell_type": "markdown",
   "id": "5ea6517b",
   "metadata": {},
   "source": [
    "**So there are 8 classes of CAUSE for which insurance is claims. We can see that the distribution of the classes is disbalanced. 'ACCIDENTAL DAMAGE' class is in majority while 'EARTHQUAKE' class is the minority here.**"
   ]
  },
  {
   "cell_type": "markdown",
   "id": "637754c5",
   "metadata": {},
   "source": [
    "##### Let's check the distribution of data using Histogram and Density visualisation method.¶"
   ]
  },
  {
   "cell_type": "code",
   "execution_count": 22,
   "id": "224691b0",
   "metadata": {
    "scrolled": true
   },
   "outputs": [
    {
     "data": {
      "image/png": "[encoded data removed]",
      "text/plain": [
       "<Figure size 1500x1500 with 6 Axes>"
      ]
     },
     "metadata": {},
     "output_type": "display_data"
    }
   ],
   "source": [
    "data_df.hist(figsize=(15,15))\n",
    "plt.show()"
   ]
  },
  {
   "cell_type": "code",
   "execution_count": 23,
   "id": "347440ab",
   "metadata": {
    "scrolled": true
   },
   "outputs": [
    {
     "data": {
      "image/png": "[encoded data removed]",
      "text/plain": [
       "<Figure size 2000x2000 with 30 Axes>"
      ]
     },
     "metadata": {},
     "output_type": "display_data"
    }
   ],
   "source": [
    "data_df.plot(kind=\"density\", layout=(6,5), \n",
    "             subplots=True,sharex=False, sharey=False, figsize=(20,20))\n",
    "plt.show()"
   ]
  },
  {
   "cell_type": "markdown",
   "id": "991be546",
   "metadata": {},
   "source": [
    "**Checking the coorellation**"
   ]
  },
  {
   "cell_type": "code",
   "execution_count": 24,
   "id": "ae659fdd",
   "metadata": {
    "scrolled": true
   },
   "outputs": [
    {
     "data": {
      "image/png": "[encoded data removed]",
      "text/plain": [
       "<Figure size 640x480 with 2 Axes>"
      ]
     },
     "metadata": {},
     "output_type": "display_data"
    }
   ],
   "source": [
    "# coorelation between the featues and target\n",
    "\n",
    "sb.heatmap(data_df.corr(),annot = True)\n",
    "plt.show()"
   ]
  },
  {
   "cell_type": "markdown",
   "id": "30f42900",
   "metadata": {},
   "source": [
    "**Now we will take features and target in seprate variable as an input X and output Y**"
   ]
  },
  {
   "cell_type": "code",
   "execution_count": 25,
   "id": "41c8b7c8",
   "metadata": {
    "scrolled": true
   },
   "outputs": [],
   "source": [
    "# Defining Input and target\n",
    "X = data_df.drop('CAUSE',axis=1)\n",
    "Y = data_df['CAUSE']"
   ]
  },
  {
   "cell_type": "markdown",
   "id": "d5eb16fb",
   "metadata": {},
   "source": [
    "### Train-Test-Split"
   ]
  },
  {
   "cell_type": "code",
   "execution_count": 26,
   "id": "27450691",
   "metadata": {
    "scrolled": true
   },
   "outputs": [],
   "source": [
    "from sklearn.model_selection import train_test_split\n",
    "X_train,X_test,Y_train,Y_test = train_test_split(X,Y,test_size=0.2,random_state=1)"
   ]
  },
  {
   "cell_type": "markdown",
   "id": "24bf7b35",
   "metadata": {},
   "source": [
    "**As we know that before giving data to machine we need to change unit of all data.**"
   ]
  },
  {
   "cell_type": "code",
   "execution_count": 27,
   "id": "21064633",
   "metadata": {
    "scrolled": true
   },
   "outputs": [],
   "source": [
    "from sklearn.preprocessing import StandardScaler\n",
    "\n",
    "ss= StandardScaler()\n",
    "X_train =  ss.fit_transform(X_train)\n",
    "X_test = ss.transform(X_test)"
   ]
  },
  {
   "cell_type": "code",
   "execution_count": 28,
   "id": "03ed100f",
   "metadata": {
    "scrolled": true
   },
   "outputs": [
    {
     "data": {
      "text/plain": [
       "(35440, 5)"
      ]
     },
     "execution_count": 28,
     "metadata": {},
     "output_type": "execute_result"
    }
   ],
   "source": [
    "X_train.shape"
   ]
  },
  {
   "cell_type": "code",
   "execution_count": 29,
   "id": "1247e1ef",
   "metadata": {
    "scrolled": true
   },
   "outputs": [
    {
     "data": {
      "text/plain": [
       "(8861, 5)"
      ]
     },
     "execution_count": 29,
     "metadata": {},
     "output_type": "execute_result"
    }
   ],
   "source": [
    "X_test.shape"
   ]
  },
  {
   "cell_type": "code",
   "execution_count": 30,
   "id": "81c2eebf",
   "metadata": {
    "scrolled": true
   },
   "outputs": [
    {
     "data": {
      "text/plain": [
       "(35440,)"
      ]
     },
     "execution_count": 30,
     "metadata": {},
     "output_type": "execute_result"
    }
   ],
   "source": [
    "Y_train.shape"
   ]
  },
  {
   "cell_type": "code",
   "execution_count": 31,
   "id": "bfc026e8",
   "metadata": {
    "scrolled": true
   },
   "outputs": [],
   "source": [
    "#! pip install imblearn"
   ]
  },
  {
   "cell_type": "code",
   "execution_count": 32,
   "id": "efa4d57a",
   "metadata": {
    "scrolled": true
   },
   "outputs": [
    {
     "data": {
      "text/plain": [
       "((35440, 5), (35440,))"
      ]
     },
     "execution_count": 32,
     "metadata": {},
     "output_type": "execute_result"
    }
   ],
   "source": [
    "from imblearn.over_sampling import SMOTE\n",
    "\n",
    "X_train1,Y_train1 = SMOTE().fit_resample(X_train,Y_train)\n",
    "X_test1,Y_test1 = SMOTE().fit_resample(X_test,Y_test)\n",
    "X_train.shape, Y_train.shape"
   ]
  },
  {
   "cell_type": "code",
   "execution_count": 33,
   "id": "c1639c95",
   "metadata": {
    "scrolled": true
   },
   "outputs": [
    {
     "data": {
      "text/plain": [
       "7    3398\n",
       "6    3398\n",
       "0    3398\n",
       "3    3398\n",
       "2    3398\n",
       "4    3398\n",
       "5    3398\n",
       "1    3398\n",
       "Name: CAUSE, dtype: int64"
      ]
     },
     "execution_count": 33,
     "metadata": {},
     "output_type": "execute_result"
    }
   ],
   "source": [
    "Y_test1.value_counts()"
   ]
  },
  {
   "cell_type": "markdown",
   "id": "d5afa2e7",
   "metadata": {},
   "source": [
    "### Creating a Model Function"
   ]
  },
  {
   "cell_type": "code",
   "execution_count": 34,
   "id": "9903b242",
   "metadata": {
    "scrolled": true
   },
   "outputs": [],
   "source": [
    "def create_model(model):\n",
    "    model.fit(X_train1,Y_train1)\n",
    "    Y_pred = model.predict(X_test1)\n",
    "    \n",
    "    print(classification_report(Y_test1, Y_pred))\n",
    "    \n",
    "    print(\"Confusion Matrix\",confusion_matrix(Y_test1,Y_pred))\n",
    "    print(\"Model Accuracy: \",model.score(X_test1,Y_test1))\n",
    "    return model\n",
    "\n",
    "from sklearn.metrics import classification_report,confusion_matrix\n"
   ]
  },
  {
   "cell_type": "markdown",
   "id": "103b2dd1",
   "metadata": {},
   "source": [
    "# 1-Using a Logistic Regression"
   ]
  },
  {
   "cell_type": "code",
   "execution_count": 35,
   "id": "8ed181c9",
   "metadata": {
    "scrolled": true
   },
   "outputs": [
    {
     "name": "stdout",
     "output_type": "stream",
     "text": [
      "Confusion Matrix [[ 998  238  759   18  924  184   70  207]\n",
      " [  18 3280   25    0    0    0   68    7]\n",
      " [ 633   50 1801   98  246  257   86  227]\n",
      " [ 595  174 1005  117  735  480   53  239]\n",
      " [ 616  361  154   77 1604  322  101  163]\n",
      " [ 242  311  648  183  637 1041  128  208]\n",
      " [ 699  254  950   62  883  242   82  226]\n",
      " [ 557  127 1153   40  980  157   57  327]]\n",
      "Model Accuracy:  0.34027369040612127\n"
     ]
    }
   ],
   "source": [
    "from sklearn.linear_model import LogisticRegression\n",
    "\n",
    "lr = LogisticRegression(random_state=1)\n",
    "lr = create_model(lr)"
   ]
  },
  {
   "cell_type": "markdown",
   "id": "c4d647c0",
   "metadata": {},
   "source": [
    "# 2- Decision Tree Classifier with Gini"
   ]
  },
  {
   "cell_type": "code",
   "execution_count": 36,
   "id": "e82de1de",
   "metadata": {
    "scrolled": true
   },
   "outputs": [
    {
     "name": "stdout",
     "output_type": "stream",
     "text": [
      "Confusion Matrix [[1070    8  414  242  506   89  647  422]\n",
      " [   4 3217   11   40   11  113    2    0]\n",
      " [ 543   24  785  689  196  344  456  361]\n",
      " [ 354   41  496  949  367  509  383  299]\n",
      " [ 639   25  147  500  871  304  570  342]\n",
      " [ 275   68  373  760  320 1096  268  238]\n",
      " [ 758   18  438  489  517  169  663  346]\n",
      " [ 545   10  343  264  341  143  343 1409]]\n",
      "Model Accuracy:  0.3700706297822248\n"
     ]
    }
   ],
   "source": [
    "from sklearn.tree import DecisionTreeClassifier\n",
    "\n",
    "dt = DecisionTreeClassifier(random_state=1)\n",
    "dt = create_model(dt)"
   ]
  },
  {
   "cell_type": "markdown",
   "id": "7c65f5c1",
   "metadata": {},
   "source": [
    "# 2.1 Decision Tree Classifier : Pruning Technique : max_depth"
   ]
  },
  {
   "cell_type": "code",
   "execution_count": 37,
   "id": "6b10ff35",
   "metadata": {
    "scrolled": false
   },
   "outputs": [
    {
     "name": "stdout",
     "output_type": "stream",
     "text": [
      "Confusion Matrix [[1478   18  827   88  671  168   27  121]\n",
      " [  24 3219    0    0   89   66    0    0]\n",
      " [ 606   13 1612  411  142  494    9  111]\n",
      " [ 515   30  769  516  852  638    9   69]\n",
      " [ 864    6   91  154 1815  364   12   92]\n",
      " [ 173   25  470  275  683 1730   15   27]\n",
      " [ 914   26  894  249  941  252   23   99]\n",
      " [ 611    3  752  148  679  235    3  967]]\n",
      "Model Accuracy:  0.41789287816362564\n"
     ]
    }
   ],
   "source": [
    "dt1=DecisionTreeClassifier(random_state=1,max_depth=8) #bydefault gini\n",
    "dt1=create_model(dt1)"
   ]
  },
  {
   "cell_type": "markdown",
   "id": "11f01ea4",
   "metadata": {},
   "source": [
    "# 2.2 Decision Tree Classifier : Pruning Technique :min_samples_leaf"
   ]
  },
  {
   "cell_type": "code",
   "execution_count": 38,
   "id": "f77478ec",
   "metadata": {
    "scrolled": true
   },
   "outputs": [
    {
     "name": "stdout",
     "output_type": "stream",
     "text": [
      "Confusion Matrix [[ 946   15  655  274  667  178  373  290]\n",
      " [  14 3218    0    6    0  159    1    0]\n",
      " [ 411   28 1162  698  107  499  275  218]\n",
      " [ 219   58  576  914  504  789  178  160]\n",
      " [ 476   27  158  383 1391  520  188  255]\n",
      " [  67   45  321  640  507 1734   50   34]\n",
      " [ 497   31  600  536  735  338  384  277]\n",
      " [ 331   18  438  207  418  233  189 1564]]\n",
      "Model Accuracy:  0.41616391995291346\n"
     ]
    }
   ],
   "source": [
    "df2 = DecisionTreeClassifier(random_state=1, min_samples_leaf=87)\n",
    "df2 = create_model(df2)"
   ]
  },
  {
   "cell_type": "markdown",
   "id": "fedde8ac",
   "metadata": {},
   "source": [
    "# 3 Decision Tree Classifier with Entropy"
   ]
  },
  {
   "cell_type": "code",
   "execution_count": 39,
   "id": "5755afcb",
   "metadata": {
    "scrolled": true
   },
   "outputs": [
    {
     "name": "stdout",
     "output_type": "stream",
     "text": [
      "Confusion Matrix [[1110   12  435  209  480   93  644  415]\n",
      " [   5 3214   18   71    4   70    7    9]\n",
      " [ 573   11  802  633  173  352  464  390]\n",
      " [ 349   41  512  962  347  530  380  277]\n",
      " [ 638   27  190  494  829  313  550  357]\n",
      " [ 237   77  405  773  336 1110  258  202]\n",
      " [ 755   11  450  478  517  186  634  367]\n",
      " [ 515    7  330  305  352  132  340 1417]]\n",
      "Model Accuracy:  0.3707327839905827\n"
     ]
    }
   ],
   "source": [
    "\n",
    "dt_entropy = DecisionTreeClassifier(random_state=1, criterion='entropy')   \n",
    "\n",
    "# Criterion should be entropy if you want to calculate with Entropy other wise by default it take Gini Index\n",
    "\n",
    "dt_entropy = create_model(dt_entropy)"
   ]
  },
  {
   "cell_type": "markdown",
   "id": "6aafadc3",
   "metadata": {},
   "source": [
    "# 4. Random Forest Classifier"
   ]
  },
  {
   "cell_type": "code",
   "execution_count": 40,
   "id": "45eca4eb",
   "metadata": {
    "scrolled": false
   },
   "outputs": [
    {
     "name": "stdout",
     "output_type": "stream",
     "text": [
      "Confusion Matrix [[1141    6  394  217  523   73  637  407]\n",
      " [   4 3202    4   73    1  112    2    0]\n",
      " [ 504   11  925  758  152  383  409  256]\n",
      " [ 290   44  522 1196  322  579  271  174]\n",
      " [ 603   16  171  511  977  350  462  308]\n",
      " [ 171   45  347  802  331 1430  141  131]\n",
      " [ 751   10  446  530  543  193  614  311]\n",
      " [ 487    5  338  275  375  145  313 1460]]\n",
      "Model Accuracy:  0.40262654502648615\n"
     ]
    }
   ],
   "source": [
    "\n",
    "from sklearn.ensemble import RandomForestClassifier\n",
    "\n",
    "rfc =RandomForestClassifier(random_state=1)\n",
    "rfc = create_model(rfc)"
   ]
  },
  {
   "cell_type": "code",
   "execution_count": 41,
   "id": "da9f826a",
   "metadata": {
    "scrolled": true
   },
   "outputs": [
    {
     "data": {
      "text/plain": [
       "'for i in range(1,9):\\n    rfc1 = RandomForestClassifier(random_state=1, max_depth=i)\\n    print(\"Max_depth: \", i)\\n    \\n    rfc1  = create_model(rfc1)'"
      ]
     },
     "execution_count": 41,
     "metadata": {},
     "output_type": "execute_result"
    }
   ],
   "source": [
    "'''for i in range(1,9):\n",
    "    rfc1 = RandomForestClassifier(random_state=1, max_depth=i)\n",
    "    print(\"Max_depth: \", i)\n",
    "    \n",
    "    rfc1  = create_model(rfc1)'''"
   ]
  },
  {
   "cell_type": "code",
   "execution_count": 42,
   "id": "2abfb965",
   "metadata": {
    "scrolled": true
   },
   "outputs": [
    {
     "name": "stdout",
     "output_type": "stream",
     "text": [
      "Confusion Matrix [[1408   10  878   15  744  163    9  171]\n",
      " [  19 3218    7   35   61   58    0    0]\n",
      " [ 523   26 1907  241  128  479    5   89]\n",
      " [ 449   28 1003  438  771  636    1   72]\n",
      " [ 779   12  130  114 1775  421    5  162]\n",
      " [ 132   42  386  273  617 1910    3   35]\n",
      " [ 860    9 1074  129  933  254   12  127]\n",
      " [ 551    5  839   60  643  224    3 1073]]\n",
      "Model Accuracy:  0.43190847557386697\n"
     ]
    }
   ],
   "source": [
    "\n",
    "rfc1 = RandomForestClassifier(random_state=1, max_depth=8)\n",
    "rfc1  = create_model(rfc1)"
   ]
  },
  {
   "cell_type": "markdown",
   "id": "fe7895d1",
   "metadata": {},
   "source": [
    "# 5. AdaBoostClassifier"
   ]
  },
  {
   "cell_type": "code",
   "execution_count": 43,
   "id": "eda71a34",
   "metadata": {
    "scrolled": true
   },
   "outputs": [
    {
     "data": {
      "text/plain": [
       "'for i in range(1,14):\\n    ada = AdaBoostClassifier(n_estimators=i, random_state=1)\\n    \\n    print(\"No of Decision Stump: \", i)\\n    \\n    ada = create_model(ada)'"
      ]
     },
     "execution_count": 43,
     "metadata": {},
     "output_type": "execute_result"
    }
   ],
   "source": [
    "from sklearn.ensemble import AdaBoostClassifier\n",
    "'''for i in range(1,14):\n",
    "    ada = AdaBoostClassifier(n_estimators=i, random_state=1)\n",
    "    \n",
    "    print(\"No of Decision Stump: \", i)\n",
    "    \n",
    "    ada = create_model(ada)'''"
   ]
  },
  {
   "cell_type": "code",
   "execution_count": 44,
   "id": "29f9d5a1",
   "metadata": {
    "scrolled": true
   },
   "outputs": [
    {
     "name": "stdout",
     "output_type": "stream",
     "text": [
      "Confusion Matrix [[ 920  111  858  267  790  201    0  251]\n",
      " [  24 3218   25   42   89    0    0    0]\n",
      " [ 511   67 1316  574  142  478    0  310]\n",
      " [ 359  146  745  439 1099  379    0  231]\n",
      " [ 523  150  125  168 1916  326    0  190]\n",
      " [  97  154  527  215 1092 1124    0  189]\n",
      " [ 570  132  802  402  998  236    0  258]\n",
      " [ 321   33  803  349  708  232    0  952]]\n",
      "Model Accuracy:  0.3636330194231901\n"
     ]
    }
   ],
   "source": [
    "ada = AdaBoostClassifier(n_estimators=10, random_state=1)\n",
    "\n",
    "\n",
    "ada = create_model(ada)"
   ]
  },
  {
   "cell_type": "markdown",
   "id": "f7720c8f",
   "metadata": {},
   "source": [
    "# 5. Gradient Boosting"
   ]
  },
  {
   "cell_type": "code",
   "execution_count": 45,
   "id": "11d8820b",
   "metadata": {
    "scrolled": true
   },
   "outputs": [
    {
     "data": {
      "text/plain": [
       "'for i in range(10,101):\\n    gbc = GradientBoostingClassifier(n_estimators=99, random_state=1)  # n_estimators >=10 and <=100\\n    print(\"Esimators: \", i)\\n    \\n    gbc = create_model(gbc)'"
      ]
     },
     "execution_count": 45,
     "metadata": {},
     "output_type": "execute_result"
    }
   ],
   "source": [
    "from sklearn.ensemble import GradientBoostingClassifier\n",
    "\n",
    "'''for i in range(10,101):\n",
    "    gbc = GradientBoostingClassifier(n_estimators=99, random_state=1)  # n_estimators >=10 and <=100\n",
    "    print(\"Esimators: \", i)\n",
    "    \n",
    "    gbc = create_model(gbc)'''"
   ]
  },
  {
   "cell_type": "code",
   "execution_count": 46,
   "id": "793f60ea",
   "metadata": {
    "scrolled": true
   },
   "outputs": [
    {
     "name": "stdout",
     "output_type": "stream",
     "text": [
      "Confusion Matrix [[1467   10  755   29  729  102   54  252]\n",
      " [   5 3232   15   29    0  117    0    0]\n",
      " [ 365   35 1552  616   91  523   46  170]\n",
      " [ 246   52  609  981  517  844   37  112]\n",
      " [ 476   16  162  317 1717  448   76  186]\n",
      " [  55   45  243  508  323 2155    2   67]\n",
      " [ 683   22  874  353  893  251  113  209]\n",
      " [ 454   10  579  165  556  210   46 1378]]\n",
      "Model Accuracy:  0.4633240141259564\n"
     ]
    }
   ],
   "source": [
    "from sklearn.ensemble import GradientBoostingClassifier\n",
    "gbc = GradientBoostingClassifier(n_estimators=99, random_state=1)  # n_estimators >=10 and <=100\n",
    "\n",
    "gbc = create_model(gbc)"
   ]
  },
  {
   "cell_type": "code",
   "execution_count": 48,
   "id": "6cddc16a",
   "metadata": {
    "scrolled": true
   },
   "outputs": [
    {
     "name": "stdout",
     "output_type": "stream",
     "text": [
      "Collecting xgboost\n",
      "  Downloading xgboost-1.7.3-py3-none-macosx_10_15_x86_64.macosx_11_0_x86_64.macosx_12_0_x86_64.whl (1.8 MB)\n",
      "\u001b[2K     \u001b[90m━━━━━━━━━━━━━━━━━━━━━━━━━━━━━━━━━━━━━━━━\u001b[0m \u001b[32m1.8/1.8 MB\u001b[0m \u001b[31m1.9 MB/s\u001b[0m eta \u001b[36m0:00:00\u001b[0m00:01\u001b[0m00:01\u001b[0m0m\n",
      "\u001b[?25hRequirement already satisfied: numpy in /opt/anaconda3/lib/python3.9/site-packages (from xgboost) (1.21.5)\n",
      "Requirement already satisfied: scipy in /opt/anaconda3/lib/python3.9/site-packages (from xgboost) (1.9.1)\n",
      "Installing collected packages: xgboost\n",
      "Successfully installed xgboost-1.7.3\n"
     ]
    }
   ],
   "source": [
    "#!pip install xgboost"
   ]
  },
  {
   "cell_type": "markdown",
   "id": "6914d2e1",
   "metadata": {},
   "source": [
    "# 6. XGBClassifier"
   ]
  },
  {
   "cell_type": "code",
   "execution_count": 49,
   "id": "fe6d2fe0",
   "metadata": {
    "scrolled": true
   },
   "outputs": [
    {
     "data": {
      "text/plain": [
       "'for i in range(10,100):\\n    xgc = XGBClassifier(n_estimators= i,reg_alpha =1, random_state =1)\\n    \\n    xgc = create_model(xgc)'"
      ]
     },
     "execution_count": 49,
     "metadata": {},
     "output_type": "execute_result"
    }
   ],
   "source": [
    "from xgboost import XGBClassifier\n",
    "'''for i in range(10,100):\n",
    "    xgc = XGBClassifier(n_estimators= i,reg_alpha =1, random_state =1)\n",
    "    \n",
    "    xgc = create_model(xgc)'''"
   ]
  },
  {
   "cell_type": "code",
   "execution_count": 50,
   "id": "75d569af",
   "metadata": {
    "scrolled": true
   },
   "outputs": [
    {
     "name": "stdout",
     "output_type": "stream",
     "text": [
      "Confusion Matrix [[1966    7  382   50  498   60  182  253]\n",
      " [   1 3262    2    8    0  125    0    0]\n",
      " [ 390    9 1203  862   98  487  183  166]\n",
      " [ 175   51  445 1231  456  829  113   98]\n",
      " [ 439   18  153  488 1542  417  190  151]\n",
      " [  63   40  211  766  295 1953   33   37]\n",
      " [ 759   12  605  529  759  229  330  175]\n",
      " [ 464    6  411  247  438  186  113 1533]]\n",
      "Model Accuracy:  0.47895821071218364\n"
     ]
    }
   ],
   "source": [
    "xgc = XGBClassifier(n_estimators= 90,reg_alpha =1, random_state =1)\n",
    "\n",
    "xgc = create_model(xgc)\n"
   ]
  },
  {
   "cell_type": "markdown",
   "id": "27351743",
   "metadata": {},
   "source": [
    "# 7. Linear SVC"
   ]
  },
  {
   "cell_type": "code",
   "execution_count": 51,
   "id": "4d2a99bd",
   "metadata": {
    "scrolled": true
   },
   "outputs": [
    {
     "name": "stdout",
     "output_type": "stream",
     "text": [
      "Confusion Matrix [[ 473  553  912    1 1140  205   12  102]\n",
      " [  15 3303   67    0    0    0   13    0]\n",
      " [ 223  243 2188    5  390  276    5   68]\n",
      " [ 315  450 1246    1  760  504   10  112]\n",
      " [ 336  714  195    7 1689  356   15   86]\n",
      " [  51  556  820   11  826 1058   16   60]\n",
      " [ 341  534 1116    5  998  286   21   97]\n",
      " [ 231  663 1329    0  780  163    7  225]]\n",
      "Model Accuracy:  0.32953207769276044\n"
     ]
    }
   ],
   "source": [
    "from sklearn.svm import LinearSVC\n",
    "svc = LinearSVC(random_state=1) \n",
    "svc = create_model(svc)"
   ]
  },
  {
   "cell_type": "code",
   "execution_count": 52,
   "id": "074c983c",
   "metadata": {
    "scrolled": true
   },
   "outputs": [
    {
     "name": "stdout",
     "output_type": "stream",
     "text": [
      "Confusion Matrix [[ 470  554  912    1 1141  206   12  102]\n",
      " [  15 3303   67    0    0    0   13    0]\n",
      " [ 220  243 2190    4  390  278    5   68]\n",
      " [ 314  447 1247    1  762  505   10  112]\n",
      " [ 335  711  195    6 1692  358   15   86]\n",
      " [  51  556  820   11  826 1058   16   60]\n",
      " [ 341  534 1116    5  997  288   21   96]\n",
      " [ 231  660 1330    0  782  163    7  225]]\n",
      "Model Accuracy:  0.329605650382578\n"
     ]
    }
   ],
   "source": [
    "svc1 = LinearSVC(random_state=1,C = 0.9)\n",
    "svc1 = create_model(svc1)"
   ]
  },
  {
   "cell_type": "markdown",
   "id": "72a77fbf",
   "metadata": {},
   "source": [
    "# Result : As we got 7 class in the target and we have unbalance sample like\n",
    "\n",
    "- ACCIDENTAL DAMAGE :   16950\n",
    "- WINDSTORM          :   8208\n",
    "- THEFT               :  7428\n",
    "- FLOOD                : 4916\n",
    "- ESCAPE OF WATER       :3876\n",
    "- FIRE                  :2025\n",
    "- SUBSIDENCE             :768\n",
    "- EARTHQUAKE             :130\n",
    "\n",
    "## Just because of unbalance data we have to apply SMOTE to balance our data where we add more duplicate value. \n",
    "\n",
    "## Because of duplicate value our accuracy is below 50 % . To increase our accuracy we need to collect more data of low frequency sample. "
   ]
  },
  {
   "cell_type": "markdown",
   "id": "72260d31",
   "metadata": {},
   "source": [
    "# We got 47 % accuracy from the XGB Classifier which maximum from the other classification algorithms. "
   ]
  },
  {
   "cell_type": "code",
   "execution_count": null,
   "id": "5a8e110a",
   "metadata": {},
   "outputs": [],
   "source": []
  }
 ],
 "metadata": {
  "kernelspec": {
   "display_name": "Python 3 (ipykernel)",
   "language": "python",
   "name": "python3"
  },
  "language_info": {
   "codemirror_mode": {
    "name": "ipython",
    "version": 3
   },
   "file_extension": ".py",
   "mimetype": "text/x-python",
   "name": "python",
   "nbconvert_exporter": "python",
   "pygments_lexer": "ipython3",
   "version": "3.9.13"
  }
 },
 "nbformat": 4,
 "nbformat_minor": 5
}
